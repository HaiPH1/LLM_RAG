{
  "nbformat": 4,
  "nbformat_minor": 0,
  "metadata": {
    "colab": {
      "provenance": [],
      "gpuType": "T4"
    },
    "kernelspec": {
      "name": "python3",
      "display_name": "Python 3"
    },
    "language_info": {
      "name": "python"
    },
    "accelerator": "GPU"
  },
  "cells": [
    {
      "cell_type": "code",
      "execution_count": 1,
      "metadata": {
        "colab": {
          "base_uri": "https://localhost:8080/"
        },
        "id": "QFoNJW8uffJd",
        "outputId": "672f939d-98a2-404c-970d-b12ddacaa931",
        "executionInfo": {
          "status": "ok",
          "timestamp": 1753155839425,
          "user_tz": -420,
          "elapsed": 25607,
          "user": {
            "displayName": "haisen14 pham",
            "userId": "17606635722114610749"
          }
        }
      },
      "outputs": [
        {
          "output_type": "stream",
          "name": "stdout",
          "text": [
            "Requirement already satisfied: langchain in /usr/local/lib/python3.11/dist-packages (0.3.26)\n",
            "Collecting langchain-community\n",
            "  Downloading langchain_community-0.3.27-py3-none-any.whl.metadata (2.9 kB)\n",
            "Requirement already satisfied: langchain-core<1.0.0,>=0.3.66 in /usr/local/lib/python3.11/dist-packages (from langchain) (0.3.69)\n",
            "Requirement already satisfied: langchain-text-splitters<1.0.0,>=0.3.8 in /usr/local/lib/python3.11/dist-packages (from langchain) (0.3.8)\n",
            "Requirement already satisfied: langsmith>=0.1.17 in /usr/local/lib/python3.11/dist-packages (from langchain) (0.4.7)\n",
            "Requirement already satisfied: pydantic<3.0.0,>=2.7.4 in /usr/local/lib/python3.11/dist-packages (from langchain) (2.11.7)\n",
            "Requirement already satisfied: SQLAlchemy<3,>=1.4 in /usr/local/lib/python3.11/dist-packages (from langchain) (2.0.41)\n",
            "Requirement already satisfied: requests<3,>=2 in /usr/local/lib/python3.11/dist-packages (from langchain) (2.32.3)\n",
            "Requirement already satisfied: PyYAML>=5.3 in /usr/local/lib/python3.11/dist-packages (from langchain) (6.0.2)\n",
            "Requirement already satisfied: aiohttp<4.0.0,>=3.8.3 in /usr/local/lib/python3.11/dist-packages (from langchain-community) (3.11.15)\n",
            "Requirement already satisfied: tenacity!=8.4.0,<10,>=8.1.0 in /usr/local/lib/python3.11/dist-packages (from langchain-community) (8.5.0)\n",
            "Collecting dataclasses-json<0.7,>=0.5.7 (from langchain-community)\n",
            "  Downloading dataclasses_json-0.6.7-py3-none-any.whl.metadata (25 kB)\n",
            "Collecting pydantic-settings<3.0.0,>=2.4.0 (from langchain-community)\n",
            "  Downloading pydantic_settings-2.10.1-py3-none-any.whl.metadata (3.4 kB)\n",
            "Collecting httpx-sse<1.0.0,>=0.4.0 (from langchain-community)\n",
            "  Downloading httpx_sse-0.4.1-py3-none-any.whl.metadata (9.4 kB)\n",
            "Requirement already satisfied: numpy>=1.26.2 in /usr/local/lib/python3.11/dist-packages (from langchain-community) (2.0.2)\n",
            "Requirement already satisfied: aiohappyeyeballs>=2.3.0 in /usr/local/lib/python3.11/dist-packages (from aiohttp<4.0.0,>=3.8.3->langchain-community) (2.6.1)\n",
            "Requirement already satisfied: aiosignal>=1.1.2 in /usr/local/lib/python3.11/dist-packages (from aiohttp<4.0.0,>=3.8.3->langchain-community) (1.4.0)\n",
            "Requirement already satisfied: attrs>=17.3.0 in /usr/local/lib/python3.11/dist-packages (from aiohttp<4.0.0,>=3.8.3->langchain-community) (25.3.0)\n",
            "Requirement already satisfied: frozenlist>=1.1.1 in /usr/local/lib/python3.11/dist-packages (from aiohttp<4.0.0,>=3.8.3->langchain-community) (1.7.0)\n",
            "Requirement already satisfied: multidict<7.0,>=4.5 in /usr/local/lib/python3.11/dist-packages (from aiohttp<4.0.0,>=3.8.3->langchain-community) (6.6.3)\n",
            "Requirement already satisfied: propcache>=0.2.0 in /usr/local/lib/python3.11/dist-packages (from aiohttp<4.0.0,>=3.8.3->langchain-community) (0.3.2)\n",
            "Requirement already satisfied: yarl<2.0,>=1.17.0 in /usr/local/lib/python3.11/dist-packages (from aiohttp<4.0.0,>=3.8.3->langchain-community) (1.20.1)\n",
            "Collecting marshmallow<4.0.0,>=3.18.0 (from dataclasses-json<0.7,>=0.5.7->langchain-community)\n",
            "  Downloading marshmallow-3.26.1-py3-none-any.whl.metadata (7.3 kB)\n",
            "Collecting typing-inspect<1,>=0.4.0 (from dataclasses-json<0.7,>=0.5.7->langchain-community)\n",
            "  Downloading typing_inspect-0.9.0-py3-none-any.whl.metadata (1.5 kB)\n",
            "Requirement already satisfied: jsonpatch<2.0,>=1.33 in /usr/local/lib/python3.11/dist-packages (from langchain-core<1.0.0,>=0.3.66->langchain) (1.33)\n",
            "Requirement already satisfied: typing-extensions>=4.7 in /usr/local/lib/python3.11/dist-packages (from langchain-core<1.0.0,>=0.3.66->langchain) (4.14.1)\n",
            "Requirement already satisfied: packaging>=23.2 in /usr/local/lib/python3.11/dist-packages (from langchain-core<1.0.0,>=0.3.66->langchain) (25.0)\n",
            "Requirement already satisfied: httpx<1,>=0.23.0 in /usr/local/lib/python3.11/dist-packages (from langsmith>=0.1.17->langchain) (0.28.1)\n",
            "Requirement already satisfied: orjson<4.0.0,>=3.9.14 in /usr/local/lib/python3.11/dist-packages (from langsmith>=0.1.17->langchain) (3.11.0)\n",
            "Requirement already satisfied: requests-toolbelt<2.0.0,>=1.0.0 in /usr/local/lib/python3.11/dist-packages (from langsmith>=0.1.17->langchain) (1.0.0)\n",
            "Requirement already satisfied: zstandard<0.24.0,>=0.23.0 in /usr/local/lib/python3.11/dist-packages (from langsmith>=0.1.17->langchain) (0.23.0)\n",
            "Requirement already satisfied: annotated-types>=0.6.0 in /usr/local/lib/python3.11/dist-packages (from pydantic<3.0.0,>=2.7.4->langchain) (0.7.0)\n",
            "Requirement already satisfied: pydantic-core==2.33.2 in /usr/local/lib/python3.11/dist-packages (from pydantic<3.0.0,>=2.7.4->langchain) (2.33.2)\n",
            "Requirement already satisfied: typing-inspection>=0.4.0 in /usr/local/lib/python3.11/dist-packages (from pydantic<3.0.0,>=2.7.4->langchain) (0.4.1)\n",
            "Collecting python-dotenv>=0.21.0 (from pydantic-settings<3.0.0,>=2.4.0->langchain-community)\n",
            "  Downloading python_dotenv-1.1.1-py3-none-any.whl.metadata (24 kB)\n",
            "Requirement already satisfied: charset-normalizer<4,>=2 in /usr/local/lib/python3.11/dist-packages (from requests<3,>=2->langchain) (3.4.2)\n",
            "Requirement already satisfied: idna<4,>=2.5 in /usr/local/lib/python3.11/dist-packages (from requests<3,>=2->langchain) (3.10)\n",
            "Requirement already satisfied: urllib3<3,>=1.21.1 in /usr/local/lib/python3.11/dist-packages (from requests<3,>=2->langchain) (2.4.0)\n",
            "Requirement already satisfied: certifi>=2017.4.17 in /usr/local/lib/python3.11/dist-packages (from requests<3,>=2->langchain) (2025.7.14)\n",
            "Requirement already satisfied: greenlet>=1 in /usr/local/lib/python3.11/dist-packages (from SQLAlchemy<3,>=1.4->langchain) (3.2.3)\n",
            "Requirement already satisfied: anyio in /usr/local/lib/python3.11/dist-packages (from httpx<1,>=0.23.0->langsmith>=0.1.17->langchain) (4.9.0)\n",
            "Requirement already satisfied: httpcore==1.* in /usr/local/lib/python3.11/dist-packages (from httpx<1,>=0.23.0->langsmith>=0.1.17->langchain) (1.0.9)\n",
            "Requirement already satisfied: h11>=0.16 in /usr/local/lib/python3.11/dist-packages (from httpcore==1.*->httpx<1,>=0.23.0->langsmith>=0.1.17->langchain) (0.16.0)\n",
            "Requirement already satisfied: jsonpointer>=1.9 in /usr/local/lib/python3.11/dist-packages (from jsonpatch<2.0,>=1.33->langchain-core<1.0.0,>=0.3.66->langchain) (3.0.0)\n",
            "Collecting mypy-extensions>=0.3.0 (from typing-inspect<1,>=0.4.0->dataclasses-json<0.7,>=0.5.7->langchain-community)\n",
            "  Downloading mypy_extensions-1.1.0-py3-none-any.whl.metadata (1.1 kB)\n",
            "Requirement already satisfied: sniffio>=1.1 in /usr/local/lib/python3.11/dist-packages (from anyio->httpx<1,>=0.23.0->langsmith>=0.1.17->langchain) (1.3.1)\n",
            "Downloading langchain_community-0.3.27-py3-none-any.whl (2.5 MB)\n",
            "\u001b[2K   \u001b[90m\u2501\u2501\u2501\u2501\u2501\u2501\u2501\u2501\u2501\u2501\u2501\u2501\u2501\u2501\u2501\u2501\u2501\u2501\u2501\u2501\u2501\u2501\u2501\u2501\u2501\u2501\u2501\u2501\u2501\u2501\u2501\u2501\u2501\u2501\u2501\u2501\u2501\u2501\u2501\u2501\u001b[0m \u001b[32m2.5/2.5 MB\u001b[0m \u001b[31m50.0 MB/s\u001b[0m eta \u001b[36m0:00:00\u001b[0m\n",
            "\u001b[?25hDownloading dataclasses_json-0.6.7-py3-none-any.whl (28 kB)\n",
            "Downloading httpx_sse-0.4.1-py3-none-any.whl (8.1 kB)\n",
            "Downloading pydantic_settings-2.10.1-py3-none-any.whl (45 kB)\n",
            "\u001b[2K   \u001b[90m\u2501\u2501\u2501\u2501\u2501\u2501\u2501\u2501\u2501\u2501\u2501\u2501\u2501\u2501\u2501\u2501\u2501\u2501\u2501\u2501\u2501\u2501\u2501\u2501\u2501\u2501\u2501\u2501\u2501\u2501\u2501\u2501\u2501\u2501\u2501\u2501\u2501\u2501\u2501\u2501\u001b[0m \u001b[32m45.2/45.2 kB\u001b[0m \u001b[31m4.2 MB/s\u001b[0m eta \u001b[36m0:00:00\u001b[0m\n",
            "\u001b[?25hDownloading marshmallow-3.26.1-py3-none-any.whl (50 kB)\n",
            "\u001b[2K   \u001b[90m\u2501\u2501\u2501\u2501\u2501\u2501\u2501\u2501\u2501\u2501\u2501\u2501\u2501\u2501\u2501\u2501\u2501\u2501\u2501\u2501\u2501\u2501\u2501\u2501\u2501\u2501\u2501\u2501\u2501\u2501\u2501\u2501\u2501\u2501\u2501\u2501\u2501\u2501\u2501\u2501\u001b[0m \u001b[32m50.9/50.9 kB\u001b[0m \u001b[31m5.0 MB/s\u001b[0m eta \u001b[36m0:00:00\u001b[0m\n",
            "\u001b[?25hDownloading python_dotenv-1.1.1-py3-none-any.whl (20 kB)\n",
            "Downloading typing_inspect-0.9.0-py3-none-any.whl (8.8 kB)\n",
            "Downloading mypy_extensions-1.1.0-py3-none-any.whl (5.0 kB)\n",
            "Installing collected packages: python-dotenv, mypy-extensions, marshmallow, httpx-sse, typing-inspect, pydantic-settings, dataclasses-json, langchain-community\n",
            "Successfully installed dataclasses-json-0.6.7 httpx-sse-0.4.1 langchain-community-0.3.27 marshmallow-3.26.1 mypy-extensions-1.1.0 pydantic-settings-2.10.1 python-dotenv-1.1.1 typing-inspect-0.9.0\n",
            "Collecting langchain-huggingface\n",
            "  Downloading langchain_huggingface-0.3.0-py3-none-any.whl.metadata (996 bytes)\n",
            "Requirement already satisfied: langchain-core<1.0.0,>=0.3.65 in /usr/local/lib/python3.11/dist-packages (from langchain-huggingface) (0.3.69)\n",
            "Requirement already satisfied: tokenizers>=0.19.1 in /usr/local/lib/python3.11/dist-packages (from langchain-huggingface) (0.21.2)\n",
            "Requirement already satisfied: huggingface-hub>=0.30.2 in /usr/local/lib/python3.11/dist-packages (from langchain-huggingface) (0.33.4)\n",
            "Requirement already satisfied: filelock in /usr/local/lib/python3.11/dist-packages (from huggingface-hub>=0.30.2->langchain-huggingface) (3.18.0)\n",
            "Requirement already satisfied: fsspec>=2023.5.0 in /usr/local/lib/python3.11/dist-packages (from huggingface-hub>=0.30.2->langchain-huggingface) (2025.3.2)\n",
            "Requirement already satisfied: packaging>=20.9 in /usr/local/lib/python3.11/dist-packages (from huggingface-hub>=0.30.2->langchain-huggingface) (25.0)\n",
            "Requirement already satisfied: pyyaml>=5.1 in /usr/local/lib/python3.11/dist-packages (from huggingface-hub>=0.30.2->langchain-huggingface) (6.0.2)\n",
            "Requirement already satisfied: requests in /usr/local/lib/python3.11/dist-packages (from huggingface-hub>=0.30.2->langchain-huggingface) (2.32.3)\n",
            "Requirement already satisfied: tqdm>=4.42.1 in /usr/local/lib/python3.11/dist-packages (from huggingface-hub>=0.30.2->langchain-huggingface) (4.67.1)\n",
            "Requirement already satisfied: typing-extensions>=3.7.4.3 in /usr/local/lib/python3.11/dist-packages (from huggingface-hub>=0.30.2->langchain-huggingface) (4.14.1)\n",
            "Requirement already satisfied: hf-xet<2.0.0,>=1.1.2 in /usr/local/lib/python3.11/dist-packages (from huggingface-hub>=0.30.2->langchain-huggingface) (1.1.5)\n",
            "Requirement already satisfied: langsmith>=0.3.45 in /usr/local/lib/python3.11/dist-packages (from langchain-core<1.0.0,>=0.3.65->langchain-huggingface) (0.4.7)\n",
            "Requirement already satisfied: tenacity!=8.4.0,<10.0.0,>=8.1.0 in /usr/local/lib/python3.11/dist-packages (from langchain-core<1.0.0,>=0.3.65->langchain-huggingface) (8.5.0)\n",
            "Requirement already satisfied: jsonpatch<2.0,>=1.33 in /usr/local/lib/python3.11/dist-packages (from langchain-core<1.0.0,>=0.3.65->langchain-huggingface) (1.33)\n",
            "Requirement already satisfied: pydantic>=2.7.4 in /usr/local/lib/python3.11/dist-packages (from langchain-core<1.0.0,>=0.3.65->langchain-huggingface) (2.11.7)\n",
            "Requirement already satisfied: jsonpointer>=1.9 in /usr/local/lib/python3.11/dist-packages (from jsonpatch<2.0,>=1.33->langchain-core<1.0.0,>=0.3.65->langchain-huggingface) (3.0.0)\n",
            "Requirement already satisfied: httpx<1,>=0.23.0 in /usr/local/lib/python3.11/dist-packages (from langsmith>=0.3.45->langchain-core<1.0.0,>=0.3.65->langchain-huggingface) (0.28.1)\n",
            "Requirement already satisfied: orjson<4.0.0,>=3.9.14 in /usr/local/lib/python3.11/dist-packages (from langsmith>=0.3.45->langchain-core<1.0.0,>=0.3.65->langchain-huggingface) (3.11.0)\n",
            "Requirement already satisfied: requests-toolbelt<2.0.0,>=1.0.0 in /usr/local/lib/python3.11/dist-packages (from langsmith>=0.3.45->langchain-core<1.0.0,>=0.3.65->langchain-huggingface) (1.0.0)\n",
            "Requirement already satisfied: zstandard<0.24.0,>=0.23.0 in /usr/local/lib/python3.11/dist-packages (from langsmith>=0.3.45->langchain-core<1.0.0,>=0.3.65->langchain-huggingface) (0.23.0)\n",
            "Requirement already satisfied: annotated-types>=0.6.0 in /usr/local/lib/python3.11/dist-packages (from pydantic>=2.7.4->langchain-core<1.0.0,>=0.3.65->langchain-huggingface) (0.7.0)\n",
            "Requirement already satisfied: pydantic-core==2.33.2 in /usr/local/lib/python3.11/dist-packages (from pydantic>=2.7.4->langchain-core<1.0.0,>=0.3.65->langchain-huggingface) (2.33.2)\n",
            "Requirement already satisfied: typing-inspection>=0.4.0 in /usr/local/lib/python3.11/dist-packages (from pydantic>=2.7.4->langchain-core<1.0.0,>=0.3.65->langchain-huggingface) (0.4.1)\n",
            "Requirement already satisfied: charset-normalizer<4,>=2 in /usr/local/lib/python3.11/dist-packages (from requests->huggingface-hub>=0.30.2->langchain-huggingface) (3.4.2)\n",
            "Requirement already satisfied: idna<4,>=2.5 in /usr/local/lib/python3.11/dist-packages (from requests->huggingface-hub>=0.30.2->langchain-huggingface) (3.10)\n",
            "Requirement already satisfied: urllib3<3,>=1.21.1 in /usr/local/lib/python3.11/dist-packages (from requests->huggingface-hub>=0.30.2->langchain-huggingface) (2.4.0)\n",
            "Requirement already satisfied: certifi>=2017.4.17 in /usr/local/lib/python3.11/dist-packages (from requests->huggingface-hub>=0.30.2->langchain-huggingface) (2025.7.14)\n",
            "Requirement already satisfied: anyio in /usr/local/lib/python3.11/dist-packages (from httpx<1,>=0.23.0->langsmith>=0.3.45->langchain-core<1.0.0,>=0.3.65->langchain-huggingface) (4.9.0)\n",
            "Requirement already satisfied: httpcore==1.* in /usr/local/lib/python3.11/dist-packages (from httpx<1,>=0.23.0->langsmith>=0.3.45->langchain-core<1.0.0,>=0.3.65->langchain-huggingface) (1.0.9)\n",
            "Requirement already satisfied: h11>=0.16 in /usr/local/lib/python3.11/dist-packages (from httpcore==1.*->httpx<1,>=0.23.0->langsmith>=0.3.45->langchain-core<1.0.0,>=0.3.65->langchain-huggingface) (0.16.0)\n",
            "Requirement already satisfied: sniffio>=1.1 in /usr/local/lib/python3.11/dist-packages (from anyio->httpx<1,>=0.23.0->langsmith>=0.3.45->langchain-core<1.0.0,>=0.3.65->langchain-huggingface) (1.3.1)\n",
            "Downloading langchain_huggingface-0.3.0-py3-none-any.whl (27 kB)\n",
            "Installing collected packages: langchain-huggingface\n",
            "Successfully installed langchain-huggingface-0.3.0\n",
            "Collecting pypdf\n",
            "  Downloading pypdf-5.8.0-py3-none-any.whl.metadata (7.1 kB)\n",
            "Downloading pypdf-5.8.0-py3-none-any.whl (309 kB)\n",
            "\u001b[2K   \u001b[90m\u2501\u2501\u2501\u2501\u2501\u2501\u2501\u2501\u2501\u2501\u2501\u2501\u2501\u2501\u2501\u2501\u2501\u2501\u2501\u2501\u2501\u2501\u2501\u2501\u2501\u2501\u2501\u2501\u2501\u2501\u2501\u2501\u2501\u2501\u2501\u2501\u2501\u2501\u2501\u2501\u001b[0m \u001b[32m309.7/309.7 kB\u001b[0m \u001b[31m8.1 MB/s\u001b[0m eta \u001b[36m0:00:00\u001b[0m\n",
            "\u001b[?25hInstalling collected packages: pypdf\n",
            "Successfully installed pypdf-5.8.0\n",
            "Collecting faiss-cpu\n",
            "  Downloading faiss_cpu-1.11.0.post1-cp311-cp311-manylinux_2_27_x86_64.manylinux_2_28_x86_64.whl.metadata (5.0 kB)\n",
            "Requirement already satisfied: numpy<3.0,>=1.25.0 in /usr/local/lib/python3.11/dist-packages (from faiss-cpu) (2.0.2)\n",
            "Requirement already satisfied: packaging in /usr/local/lib/python3.11/dist-packages (from faiss-cpu) (25.0)\n",
            "Downloading faiss_cpu-1.11.0.post1-cp311-cp311-manylinux_2_27_x86_64.manylinux_2_28_x86_64.whl (31.3 MB)\n",
            "\u001b[2K   \u001b[90m\u2501\u2501\u2501\u2501\u2501\u2501\u2501\u2501\u2501\u2501\u2501\u2501\u2501\u2501\u2501\u2501\u2501\u2501\u2501\u2501\u2501\u2501\u2501\u2501\u2501\u2501\u2501\u2501\u2501\u2501\u2501\u2501\u2501\u2501\u2501\u2501\u2501\u2501\u2501\u2501\u001b[0m \u001b[32m31.3/31.3 MB\u001b[0m \u001b[31m71.4 MB/s\u001b[0m eta \u001b[36m0:00:00\u001b[0m\n",
            "\u001b[?25hInstalling collected packages: faiss-cpu\n",
            "Successfully installed faiss-cpu-1.11.0.post1\n"
          ]
        }
      ],
      "source": [
        "!pip install -U langchain langchain-community\n",
        "!pip install -U langchain-huggingface\n",
        "!pip install pypdf\n",
        "!pip install faiss-cpu"
      ]
    },
    {
      "cell_type": "code",
      "source": [
        "from langchain.text_splitter import CharacterTextSplitter\n",
        "from langchain_community.vectorstores import FAISS\n",
        "from langchain_huggingface import HuggingFaceEmbeddings\n",
        "from langchain_community.document_loaders import DirectoryLoader, PyPDFLoader\n",
        "from langchain_text_splitters import RecursiveCharacterTextSplitter\n"
      ],
      "metadata": {
        "id": "fIMAEipdftGM",
        "executionInfo": {
          "status": "ok",
          "timestamp": 1753155913756,
          "user_tz": -420,
          "elapsed": 1088,
          "user": {
            "displayName": "haisen14 pham",
            "userId": "17606635722114610749"
          }
        }
      },
      "execution_count": 2,
      "outputs": []
    },
    {
      "cell_type": "code",
      "source": [
        "vector_db_path = \"vectorstores/db_faiss\"\n",
        "pdf_data_path = \"/content/data\"\n"
      ],
      "metadata": {
        "id": "tmAGdP2yftJn",
        "executionInfo": {
          "status": "ok",
          "timestamp": 1753156070219,
          "user_tz": -420,
          "elapsed": 22,
          "user": {
            "displayName": "haisen14 pham",
            "userId": "17606635722114610749"
          }
        }
      },
      "execution_count": 3,
      "outputs": []
    },
    {
      "cell_type": "code",
      "source": [
        "def load_and_split_documents(pdf_data_path, chunk_size=512, chunk_overlap=100):\n",
        "    loader = DirectoryLoader(pdf_data_path, glob=\"*.pdf\", loader_cls=PyPDFLoader)\n",
        "    documents = loader.load()\n",
        "    text_splitter = RecursiveCharacterTextSplitter(\n",
        "        chunk_size=chunk_size,\n",
        "        chunk_overlap=chunk_overlap\n",
        "    )\n",
        "    chunks = text_splitter.split_documents(documents)\n",
        "    return chunks"
      ],
      "metadata": {
        "id": "ZRZrbjynftMK",
        "executionInfo": {
          "status": "ok",
          "timestamp": 1753156072219,
          "user_tz": -420,
          "elapsed": 11,
          "user": {
            "displayName": "haisen14 pham",
            "userId": "17606635722114610749"
          }
        }
      },
      "execution_count": 4,
      "outputs": []
    },
    {
      "cell_type": "code",
      "source": [
        "chunks=load_and_split_documents(pdf_data_path)\n",
        "print(\"V\u0103n b\u1ea3n g\u1ed1c:\")\n",
        "print(pdf_data_path[:])\n",
        "\n",
        "print(\"\\nS\u1ed1 chunks:\", len(chunks))\n",
        "print(\"\\nChunk \u0111\u1ea7u ti\u00ean:\")\n",
        "print(chunks[0].page_content)\n",
        "print(\"\\nChunk 2:\")\n",
        "print(chunks[1].page_content)\n"
      ],
      "metadata": {
        "colab": {
          "base_uri": "https://localhost:8080/"
        },
        "id": "hIJYeSY0ftPV",
        "outputId": "35d5001a-56cc-4695-b98b-505aa1d4c1dd",
        "executionInfo": {
          "status": "ok",
          "timestamp": 1753156075405,
          "user_tz": -420,
          "elapsed": 603,
          "user": {
            "displayName": "haisen14 pham",
            "userId": "17606635722114610749"
          }
        }
      },
      "execution_count": 5,
      "outputs": [
        {
          "output_type": "stream",
          "name": "stdout",
          "text": [
            "V\u0103n b\u1ea3n g\u1ed1c:\n",
            "/content/data\n",
            "\n",
            "S\u1ed1 chunks: 19\n",
            "\n",
            "Chunk \u0111\u1ea7u ti\u00ean:\n",
            "Tuy\u1ec3n sinh \u0110\u1ea1i h\u1ecdc X\u00e2y d\u1ef1ng H\u00e0 N\u1ed9i n\u0103m 2025 \n",
            "T\u1ed5ng quan v\u1ec1 tr\u01b0\u1eddng \n",
            "\u0110\u1ea1i h\u1ecdc X\u00e2y d\u1ef1ng H\u00e0 N\u1ed9i (National University of Civil Engineering - NUCE) l\u00e0 m\u1ed9t trong \n",
            "nh\u1eefng c\u01a1 s\u1edf gi\u00e1o d\u1ee5c \u0111\u1ea1i h\u1ecdc k\u1ef9 thu\u1eadt h\u00e0ng \u0111\u1ea7u t\u1ea1i Vi\u1ec7t Nam, n\u1ed5i ti\u1ebfng v\u1edbi h\u01a1n 60 n\u0103m h\u00ecnh \n",
            "th\u00e0nh v\u00e0 ph\u00e1t tri\u1ec3n trong l\u0129nh v\u1ef1c \u0111\u00e0o t\u1ea1o nh\u00e2n l\u1ef1c ch\u1ea5t l\u01b0\u1ee3ng cao cho ng\u00e0nh x\u00e2y d\u1ef1ng, \n",
            "ki\u1ebfn tr\u00fac, k\u1ef9 thu\u1eadt h\u1ea1 t\u1ea7ng v\u00e0 qu\u1ea3n l\u00fd \u0111\u00f4 th\u1ecb. Th\u00e0nh l\u1eadp n\u0103m 1966, tr\u01b0\u1eddng \u0111\u00e3 kh\u1eb3ng \u0111\u1ecbnh v\u1ecb\n",
            "\n",
            "Chunk 2:\n",
            "ki\u1ebfn tr\u00fac, k\u1ef9 thu\u1eadt h\u1ea1 t\u1ea7ng v\u00e0 qu\u1ea3n l\u00fd \u0111\u00f4 th\u1ecb. Th\u00e0nh l\u1eadp n\u0103m 1966, tr\u01b0\u1eddng \u0111\u00e3 kh\u1eb3ng \u0111\u1ecbnh v\u1ecb \n",
            "th\u1ebf l\u00e0 trung t\u00e2m \u0111\u00e0o t\u1ea1o, nghi\u00ean c\u1ee9u khoa h\u1ecdc v\u00e0 chuy\u1ec3n giao c\u00f4ng ngh\u1ec7 uy t\u00edn, \u0111\u00f3ng g\u00f3p \n",
            "l\u1edbn v\u00e0o s\u1ef1 ph\u00e1t tri\u1ec3n c\u01a1 s\u1edf h\u1ea1 t\u1ea7ng v\u00e0 ki\u1ebfn tr\u00fac \u0111\u00f4 th\u1ecb c\u1ee7a \u0111\u1ea5t n\u01b0\u1edbc. V\u1edbi \u0111\u1ed9i ng\u0169 gi\u1ea3ng vi\u00ean \n",
            "gi\u00e0u kinh nghi\u1ec7m, c\u01a1 s\u1edf v\u1eadt ch\u1ea5t hi\u1ec7n \u0111\u1ea1i v\u00e0 c\u00e1c ch\u01b0\u01a1ng tr\u00ecnh h\u1ee3p t\u00e1c qu\u1ed1c t\u1ebf r\u1ed9ng r\u00e3i, \n",
            "NUCE thu h\u00fat h\u00e0ng ngh\u00ecn th\u00ed sinh \u0111\u0103ng k\u00fd x\u00e9t tuy\u1ec3n m\u1ed7i n\u0103m. \n",
            "Ch\u1ec9 ti\u00eau v\u00e0 ph\u01b0\u01a1ng th\u1ee9c tuy\u1ec3n sinh\n"
          ]
        }
      ]
    },
    {
      "cell_type": "code",
      "source": [
        "def embed_and_save(chunks, vector_db_path, embedding_model_name=\"sentence-transformers/all-MiniLM-L6-v2\"):\n",
        "    embedding_model = HuggingFaceEmbeddings(model_name=embedding_model_name)\n",
        "    db = FAISS.from_documents(chunks, embedding_model)\n",
        "    db.save_local(vector_db_path)\n",
        "    return db"
      ],
      "metadata": {
        "id": "Mla-GjAmftTM",
        "executionInfo": {
          "status": "ok",
          "timestamp": 1753156077718,
          "user_tz": -420,
          "elapsed": 19,
          "user": {
            "displayName": "haisen14 pham",
            "userId": "17606635722114610749"
          }
        }
      },
      "execution_count": 6,
      "outputs": []
    },
    {
      "cell_type": "code",
      "source": [
        "db = embed_and_save(chunks, vector_db_path)\n"
      ],
      "metadata": {
        "colab": {
          "base_uri": "https://localhost:8080/",
          "height": 493,
          "referenced_widgets": [
            "ecdd522bdc4a4509a2ae6351b4c1edc5",
            "e8bb7320ad5644dc900195fec9c2c3e5",
            "7451b721fe634d88a6cb8e22920aa6a3",
            "d9a54851176c4ca1a0a0f9add39b4e7b",
            "d4e3bc48df4c4530b7b470ba690c09f9",
            "57ceccf809744b07bc6b19a120d0f1a8",
            "3fc0dbae799d4403bdf730668427d913",
            "bc70041d45c84506b39ccf284ea22e8c",
            "b8df1e5a760e40a098e04beb804029b5",
            "2d68ac4b0a1f4391b63c943d7d4e97e5",
            "c78d53c007d24121b46c1eb6e1f723d0",
            "7da5a8e68b9240599977846119e6f73f",
            "971fb7cc7df04cdda749d6b60a7a002d",
            "2332dff94693491aab13be27f99e591b",
            "0fc31103a8d3440fb1bb5797c0c6b276",
            "3d7c660be7e14731b761cf7bb948f98a",
            "a4d1589982f94d5e89b8d8a8fd0f9079",
            "1b3f57e474854675a2d0c94c47722316",
            "03359640ab2048c58d80a9f22b5148ee",
            "7bd668bc78de4fb1ad55d9dff0c09995",
            "4bba0829139f4c3e90e9e7362cde033e",
            "be12ac57843b43cf8619f60385c46745",
            "1784658faf0548ccbc27ff922e9a51e4",
            "062b17586d934b719c26728ed10dd08d",
            "28aeba7e31c948aaab6bd46daa23ddca",
            "26872ed48f484861acfe6702fbbb591e",
            "2dd51521839d4baaa6d9d636c6e4e3e7",
            "ac9aca0c2b6f4b3b9aa36b5d2f53ce9e",
            "422d878cccd749fb8a5845e3e532f26c",
            "16b0ddb8fcfd4b4c8695cabbcc682970",
            "591c920bdea94c328580bc8a6f4873e0",
            "29c0b9970c134f0bbe6a550bf207beb6",
            "91989eee89554ff5947b8d7790fb0066",
            "56ee03a400124977aaeed6cf51543f11",
            "68982442507540799ed5dda85c19a36c",
            "9c10b8e92f8f4cf5820c8739ab5f1b80",
            "4159e8e38d05446cb498667b841af9fe",
            "fe417a4b8909480cb47df6f24f9dc51e",
            "a93b4dd9ddc74e04a3aef17031ef76fb",
            "192f3cfde91d4288b37ea1b9077a3255",
            "52ca5d97d5dc49a3a6bdb66e1ded01c3",
            "9bd94b6fa80543b1afc28994a8e353b2",
            "bfb6ad1c664e4941aceb9d9ee6f633b5",
            "086a48197b854cb78736618a7cd0fbb4",
            "843c954aa5964f83aebabca8dcd49a4f",
            "a083f9c3dc80412ab8898c594b5ffdf1",
            "2ba60c45c28d43dbbf656061fd7bf4fa",
            "3c98813b59b6479f9a7033dca7297457",
            "13c31c7fd64f4f05b63ed9b87bc3a3ce",
            "9f92ade94c6441aabeddf41f4ccb69d0",
            "edd8fea4ab654972b11d2694dfed6aee",
            "cdaf60a928a24acf8977be69e8fd7dd3",
            "5157a93af2854af18dc4ce2d9a3f638d",
            "8ec13d8a843e4dafac4bdc2333c215c6",
            "be619379b9004209a6d955c9ddc06cc5",
            "816ac3b9dbdf49deab2c38dbf4414624",
            "0ebd2557010d41099f13dea732653bac",
            "a9ab51ab39df4b159e4568b67ca028a7",
            "02cddeca9e0c4bfb893c905d15edc701",
            "5f38ab24997b412b8a4a0c8e2b955be2",
            "acc2db109761413cb182de1950773d8e",
            "a5f06dbddd8a43bb9887282c921f748b",
            "3ae1ae58e42e4c1089a076fd144d1b92",
            "2b07e0fec5704a28ae062ba3ad05aa14",
            "2316bb65e73945f0af72332fd08c9412",
            "80b9fa1c40504eebac8b252be5b401c7",
            "542cdbd2e2b8467293b23e19703084fe",
            "5b9b5b9b6a5c4fa38212cfe2fe3e1651",
            "a2020f9b614a4d22bd6d81433f2d2488",
            "5fcee6d937cc41ad9772814d4fb59442",
            "ad561fadaa8d423da2d660447a654263",
            "78ee4fbafe374b229f29fcca21005cf3",
            "7218f6eaca26422d9447febbaf329c1f",
            "a0697c165ea64c609e42529f6c840743",
            "94671463331541ed89ed6a326521a328",
            "335467c70a134362a6ecf391146afb1e",
            "d16a46493b6945dfac54253754508e51",
            "698a5ffa3d2d41eab80cfffba63c048d",
            "a1ff14f5e5ac4c5caae18c5503fae282",
            "268b956a7c4c41ca9330d1424bdcf090",
            "d0df9d6889004204865fafb3f12b8e9c",
            "12431668d63649b8a1403ac7b1e010b6",
            "8261a953f89645b785c0a950278d519f",
            "33d26e53441440459b80b0d643fe68f8",
            "b92c08bc99f74758988f97c4223d3f01",
            "a74e88a7a1be4edeaa4e24647742e473",
            "382229f091154915a2b92afb0dea1ce1",
            "aeef9aab3718498fabaecc0fc2868cb8",
            "bb2b4164c3874274bf3021d9982b367a",
            "0056e6380d2742bd8678c83d11cd6221",
            "67005118d47a430aa072e40a1576cb7a",
            "b4948c43c872495681f143d0be984a6c",
            "25a11a8fc9b84c71bf7c95eab86618b8",
            "be30dbe3ec8e409dab34ce79be23c9de",
            "8b39a46c49a94c58b9f93d79383d6de1",
            "75ce3f2f97c64f8492f7d718f339c722",
            "6affb4213fbe436b88d995ce50b44370",
            "c5cabcfe97f547d9a930d7e47a62ec0d",
            "0b91944eaab94554802ef3e3480afcab",
            "e751d0422d92494ab888ddec40f4fc13",
            "dc6c1f865c19482e88120c6592382c23",
            "be13fb46634e48bcbd1be8febdc981b5",
            "035f02b98301446cad9178fe97e0bb2b",
            "85ed81fc020f42d683ebe954766f7c7c",
            "cfe94dd52c8e4131a293c9902a8871ff",
            "4f683e5e88694171ad2bac0765ffcc08",
            "ae304c430d0e4645b6c3098c63f182ff",
            "32ab8ef5d89c438fb32bda0443c83dbc",
            "30d5f8711d88402495b51d906f246720",
            "a50f2150261540dc9fc3ad0f1155ac6e",
            "c00b5c460a4d4dec93d04ae1c2cb81d5",
            "dfde070cadbd4554820581ee694f48d9",
            "116d0c90048442d587b84ae51de406ca",
            "5260391967394e24b5529b620399276f",
            "07e3475cf36d4347a88478276eff428f",
            "d14027af8f994d3d9bb1bc15a1489c7b",
            "6571f3e48ad44757a5f99619ecff1908",
            "c878e589f56c4e23abd6b38e58dffc32",
            "72fad2d2b2374e95b89ebe058599539f",
            "59841b7fa89049959d65fa3d9b68709e",
            "4dbc516dd56942cab680f0b257014163"
          ]
        },
        "id": "iAwsSmtJftVc",
        "outputId": "280016c2-93aa-474c-a123-1c0b7ce86150",
        "executionInfo": {
          "status": "ok",
          "timestamp": 1753156107544,
          "user_tz": -420,
          "elapsed": 27391,
          "user": {
            "displayName": "haisen14 pham",
            "userId": "17606635722114610749"
          }
        }
      },
      "execution_count": 7,
      "outputs": [
        {
          "output_type": "stream",
          "name": "stderr",
          "text": [
            "/usr/local/lib/python3.11/dist-packages/huggingface_hub/utils/_auth.py:94: UserWarning: \n",
            "The secret `HF_TOKEN` does not exist in your Colab secrets.\n",
            "To authenticate with the Hugging Face Hub, create a token in your settings tab (https://huggingface.co/settings/tokens), set it as secret in your Google Colab and restart your session.\n",
            "You will be able to reuse this secret in all of your notebooks.\n",
            "Please note that authentication is recommended but still optional to access public models or datasets.\n",
            "  warnings.warn(\n"
          ]
        },
        {
          "output_type": "display_data",
          "data": {
            "text/plain": [
              "modules.json:   0%|          | 0.00/349 [00:00<?, ?B/s]"
            ],
            "application/vnd.jupyter.widget-view+json": {
              "version_major": 2,
              "version_minor": 0,
              "model_id": "ecdd522bdc4a4509a2ae6351b4c1edc5"
            }
          },
          "metadata": {}
        },
        {
          "output_type": "display_data",
          "data": {
            "text/plain": [
              "config_sentence_transformers.json:   0%|          | 0.00/116 [00:00<?, ?B/s]"
            ],
            "application/vnd.jupyter.widget-view+json": {
              "version_major": 2,
              "version_minor": 0,
              "model_id": "7da5a8e68b9240599977846119e6f73f"
            }
          },
          "metadata": {}
        },
        {
          "output_type": "display_data",
          "data": {
            "text/plain": [
              "README.md: 0.00B [00:00, ?B/s]"
            ],
            "application/vnd.jupyter.widget-view+json": {
              "version_major": 2,
              "version_minor": 0,
              "model_id": "1784658faf0548ccbc27ff922e9a51e4"
            }
          },
          "metadata": {}
        },
        {
          "output_type": "display_data",
          "data": {
            "text/plain": [
              "sentence_bert_config.json:   0%|          | 0.00/53.0 [00:00<?, ?B/s]"
            ],
            "application/vnd.jupyter.widget-view+json": {
              "version_major": 2,
              "version_minor": 0,
              "model_id": "56ee03a400124977aaeed6cf51543f11"
            }
          },
          "metadata": {}
        },
        {
          "output_type": "display_data",
          "data": {
            "text/plain": [
              "config.json:   0%|          | 0.00/612 [00:00<?, ?B/s]"
            ],
            "application/vnd.jupyter.widget-view+json": {
              "version_major": 2,
              "version_minor": 0,
              "model_id": "843c954aa5964f83aebabca8dcd49a4f"
            }
          },
          "metadata": {}
        },
        {
          "output_type": "display_data",
          "data": {
            "text/plain": [
              "model.safetensors:   0%|          | 0.00/90.9M [00:00<?, ?B/s]"
            ],
            "application/vnd.jupyter.widget-view+json": {
              "version_major": 2,
              "version_minor": 0,
              "model_id": "816ac3b9dbdf49deab2c38dbf4414624"
            }
          },
          "metadata": {}
        },
        {
          "output_type": "display_data",
          "data": {
            "text/plain": [
              "tokenizer_config.json:   0%|          | 0.00/350 [00:00<?, ?B/s]"
            ],
            "application/vnd.jupyter.widget-view+json": {
              "version_major": 2,
              "version_minor": 0,
              "model_id": "542cdbd2e2b8467293b23e19703084fe"
            }
          },
          "metadata": {}
        },
        {
          "output_type": "display_data",
          "data": {
            "text/plain": [
              "vocab.txt: 0.00B [00:00, ?B/s]"
            ],
            "application/vnd.jupyter.widget-view+json": {
              "version_major": 2,
              "version_minor": 0,
              "model_id": "698a5ffa3d2d41eab80cfffba63c048d"
            }
          },
          "metadata": {}
        },
        {
          "output_type": "display_data",
          "data": {
            "text/plain": [
              "tokenizer.json: 0.00B [00:00, ?B/s]"
            ],
            "application/vnd.jupyter.widget-view+json": {
              "version_major": 2,
              "version_minor": 0,
              "model_id": "bb2b4164c3874274bf3021d9982b367a"
            }
          },
          "metadata": {}
        },
        {
          "output_type": "display_data",
          "data": {
            "text/plain": [
              "special_tokens_map.json:   0%|          | 0.00/112 [00:00<?, ?B/s]"
            ],
            "application/vnd.jupyter.widget-view+json": {
              "version_major": 2,
              "version_minor": 0,
              "model_id": "e751d0422d92494ab888ddec40f4fc13"
            }
          },
          "metadata": {}
        },
        {
          "output_type": "display_data",
          "data": {
            "text/plain": [
              "config.json:   0%|          | 0.00/190 [00:00<?, ?B/s]"
            ],
            "application/vnd.jupyter.widget-view+json": {
              "version_major": 2,
              "version_minor": 0,
              "model_id": "c00b5c460a4d4dec93d04ae1c2cb81d5"
            }
          },
          "metadata": {}
        }
      ]
    },
    {
      "cell_type": "code",
      "source": [
        "from transformers import AutoTokenizer, AutoModelForCausalLM, pipeline\n",
        "from langchain_community.llms import HuggingFacePipeline\n",
        "from langchain.chains import RetrievalQA\n",
        "from langchain.prompts import PromptTemplate\n",
        "from langchain_community.vectorstores import FAISS\n",
        "from langchain_huggingface import HuggingFaceEmbeddings\n",
        "\n",
        "from huggingface_hub import snapshot_download\n",
        "import torch\n",
        "\n",
        "\n",
        "model_repo = \"phamhai/Llama-3.2-3B-Instruct-Frog\"\n",
        "local_model_path = \"./Llama-3.2-3B-Instruct-Frog\"\n",
        "embedding_model_name = \"sentence-transformers/all-MiniLM-L6-v2\"\n",
        "vector_db_path = \"vectorstores/db_faiss\"\n",
        "\n",
        "\n",
        "def load_llm(model_repo, local_path):\n",
        "    model_path = snapshot_download(\n",
        "        repo_id=model_repo,\n",
        "        local_dir=local_path,\n",
        "        local_dir_use_symlinks=False\n",
        "    )\n",
        "\n",
        "    tokenizer = AutoTokenizer.from_pretrained(model_path)\n",
        "    model = AutoModelForCausalLM.from_pretrained(model_path, torch_dtype=torch.float16)\n",
        "    model.to(\"cuda\")\n",
        "\n",
        "    pipe = pipeline(\n",
        "        \"text-generation\",\n",
        "        model=model,\n",
        "        tokenizer=tokenizer,\n",
        "        max_new_tokens=1024,\n",
        "        temperature=0.01,\n",
        "        do_sample=False,\n",
        "        return_full_text=False\n",
        "    )\n",
        "\n",
        "    llm = HuggingFacePipeline(pipeline=pipe)\n",
        "    return llm\n",
        "\n",
        "def create_prompt(template):\n",
        "    return PromptTemplate(template=template, input_variables=[\"context\", \"question\"])\n",
        "\n",
        "\n",
        "def create_qa_chain(prompt, llm, db):\n",
        "    qa_chain = RetrievalQA.from_chain_type(\n",
        "        llm=llm,\n",
        "        chain_type=\"stuff\",\n",
        "        retriever=db.as_retriever(search_kwargs={\"k\": 3}),\n",
        "        return_source_documents=False,\n",
        "        chain_type_kwargs={'prompt': prompt}\n",
        "    )\n",
        "    return qa_chain\n",
        "\n",
        "\n",
        "def read_vectors_db():\n",
        "    embedding_model = HuggingFaceEmbeddings(model_name=embedding_model_name)\n",
        "    db = FAISS.load_local(\n",
        "        vector_db_path,\n",
        "        embeddings=embedding_model,\n",
        "        allow_dangerous_deserialization=True\n",
        "    )\n",
        "    return db\n",
        "\n",
        "\n",
        "\n",
        "db = read_vectors_db()\n",
        "llm = load_llm(model_repo, local_model_path)\n",
        "\n",
        "template = \"\"\"<|im_start|>system\n",
        "S\u1eed d\u1ee5ng th\u00f4ng tin sau \u0111\u00e2y \u0111\u1ec3 tr\u1ea3 l\u1eddi c\u00e2u h\u1ecfi. N\u1ebfu b\u1ea1n kh\u00f4ng bi\u1ebft c\u00e2u tr\u1ea3 l\u1eddi, h\u00e3y n\u00f3i kh\u00f4ng bi\u1ebft, \u0111\u1eebng c\u1ed1 t\u1ea1o ra c\u00e2u tr\u1ea3 l\u1eddi.\n",
        "{context}\n",
        "<|im_end|>\n",
        "<|im_start|>user\n",
        "{question}\n",
        "<|im_end|>\n",
        "<|im_start|>assistant\n",
        "\"\"\"\n",
        "\n",
        "prompt = create_prompt(template)\n",
        "llm_chain = create_qa_chain(prompt, llm, db)\n",
        "\n",
        "\n",
        "question = \"tuy\u1ec3n sinh \u0111\u1ea1i h\u1ecdc x\u00e2y d\u1ef1ng 2025 y\u00eau c\u1ea7u g\u00ec\"\n",
        "response = llm_chain.invoke({\"query\": question})\n",
        "print(response[\"result\"])\n"
      ],
      "metadata": {
        "colab": {
          "base_uri": "https://localhost:8080/",
          "height": 595,
          "referenced_widgets": [
            "57ccf246b61942469f0b787b52eb68f8",
            "0e9f74a0db674ef6a5e0657c18f2fe19",
            "dcb6cf19cf8f407ca8e428f53a8bbfa2",
            "9a0bf480c5434eb1983f334587b76076",
            "9a9ef272081445f38e2081a798f3d880",
            "31e4229d96b64f9c923c7bcb32db8824",
            "6d03c63734334feca9067e23a3f587a3",
            "aadf48075b714469a4ee7102a2059d7d",
            "aa38269638d946dcb85393113ec2f24e",
            "2014fad9ac694b28874ffe9b209e290e",
            "b0cefa64c4344c3192d0c56f951fe068",
            "ca5424d482434d428c487ecc44124c60",
            "87fba60488bf449e9259c163486491ea",
            "1fead8a9f6cc4f8cad750a084e230723",
            "96a2df08e5d44434b252c145fc430cd3",
            "e6919bac45dd45769e176e99a12c3b72",
            "a1286f2115c7451ea5cdb9c1f8fc3a79",
            "1f90a12ecfae4862886a908c6c6a418c",
            "9a060e33226f42b1bcfbce377125abf8",
            "85713df065d24dec8aa67346f090e494",
            "7750ab1b3981451a8cbbf5cdb45e16ae",
            "2f57ea66b16f4ceb9ae6e8144371ef99",
            "154f89f91ae7494fb4fe9626e699a66e",
            "2dec53740fab481eb025be04f020a078",
            "ffbe60d60685498490027fddeb1b367a",
            "9ecf9f74874547c88e906229bd8dd208",
            "1d590883766643c2a0ed05fd5dddc4f0",
            "0feaa810941d4e718ef3a6a23ce2fc72",
            "019d7f1ae2914f2e9540f10cf1f6a880",
            "b232dd900628428a8100fc5049e32ef9",
            "04504a11780449849f05eeac1aa25f01",
            "82ea06a5e84f462eafa7eca61cfb3fef",
            "8bbd2ce5704e430f87b5ac2d9394c43f",
            "46d6be63b662440080fe64ef05c732fc",
            "a6e790409f8947e8b0a5bff47bc01169",
            "0316517f9f5146adab6da4bd8ba51125",
            "9a114a976eef4fbe860456351bdda7d8",
            "ee5d38c1719544bb9ab8f21bd3746a1d",
            "45a3c2308bbb4c4b81d8864f69d36ecb",
            "75735c9acb7c40e7aba9b4eea08c63e8",
            "ebedfca6c11a4efd955f6a12b7583c38",
            "5767a06ac89f41399e038d7d5f04edd4",
            "95e0ef3224ce44edb91f86dbadb15747",
            "29b1c8a114d34b4bb90e95074caab7cd",
            "7f5938a1b3fd48558743a546e9cc1a93",
            "04fc0bf48fba42efa2fe8c5c3db4a416",
            "07973698e6fc457a8157cf4dc094eb0b",
            "6a125cbd056a4b848d5a8866ad465bdd",
            "a8ac1d2bd4d14513a588f10da5a42b8e",
            "f74086b4228e43a79f609b1432aa7856",
            "3b957c2064914cf28feaf2f4dd9bb41d",
            "dd61dcfc8e3b4e479ff8aee317fb785b",
            "989f81cae0fe4fbfb83e065b4401e80c",
            "6fcd6ff3b888451182ed63670730889c",
            "1dd2ab3c6e3c4e98b959859a7dba4c70",
            "5689bd2e55854ac39d517af07cd426ab",
            "40975c6c6431400f8687474050dcdeae",
            "c2690228d3214fb9a3f32e3709c02b58",
            "cb7b99481e5948fa88209db63cbe3bd9",
            "8dee26bb7a67404ab0650156e6784c02",
            "aafc734f1d024a7cb99f41ef339fd894",
            "f7666060a3dd4eaab413710c46dc92e4",
            "4ad0d34315604742b8b4beb21f7c6b57",
            "9b8b84d6fe7b4eeb8cc6d7c0c419f78a",
            "661df33713b547b5818a34df3d56b5f4",
            "a48de96e96b34dd29f0afd293756ad17",
            "a5946f21cce74a999c1ae85d55b87102",
            "37806b2c14b44d179472ffdb81a61fb6",
            "a2149a55ecc344d283be4f95f4723d69",
            "ddd751d5382a48d68c655125c7e407a6",
            "7e48b8ce258c49d599ab96b0f187268a",
            "dcde3f2c6b2e4a7c89bf2986b808bb7e",
            "a49128243b6c42a2bb292042b5dfef3d",
            "0dc458298f424d1fabe973a6d497d3f8",
            "dea0f36f535e4dd2a6a20e0cb44502eb",
            "54cbb684bea146b9aecacc619f7a9dfa",
            "976b821d761e46a4af7bca2987947fdb",
            "3ac5be2287b54d188cc722843aa7c6e7",
            "ae1d57e66c3e4e5da331089890df2ca9",
            "2129de4023d74a79b11467719765d4b2",
            "4fcbc88a350f4b63bca44b3656efb309",
            "38ffd5ccd47d4b43a1834e364905cbd1",
            "1d0af2e14cb0465281b9634a9f24b45e",
            "9c478065326946ff87647d416ad81f90",
            "f0cf31de874c47d28df6be5aa9acadde",
            "24b10c0be2b8410582e7f40d2d140531",
            "bfb2f6b9e198452783c0c2e0187becb4",
            "16485ab7651b4f72beb2452ece54c74f",
            "718ea7a1d38b49159093bdc6c8acf1b6",
            "014c84ce60d0415cba28ceb6c04cd7c9",
            "3ac01344997c47d8af5b130a0174bcba",
            "1671815404ca4eaab318f0fe65197afc",
            "146bf85b9d2f409eb21b563b2d24b4a0",
            "76d8f390be104ed4aff5fe94d36b81c4",
            "fe21a986a7614a6a92e18857abf38d44",
            "4751014885c9466886fcc1c70d1facde",
            "4260aa0e7c014cd480646c124022671d",
            "9df301425a7542da856afb6c7af08ad5",
            "e79a9f70149b4958a08cb2e73358d06d",
            "47a50b4594ef4cf9af3e6b154c34adb4",
            "d2247abc127943e995caa5a017fdbd15",
            "e8b6b463489b45b89dbeeda2487b593b",
            "4a6ed6131a924fdb8a1fc1475747e357",
            "f6cb1b6f48fd4a80a8946eea69297a9b",
            "281eb7e15f224197832e9681a074c3e6",
            "b094e831b05f43199a7fe7d25a677194",
            "127f5b8fa1f947ecbd38b7d3b7cd721e",
            "a647152bcc5c4f88bd359df2c33044ae",
            "6ccdd27d1ba34e70862e3fe498987f98",
            "2121a874512f4d08a254206ab37b1bfc",
            "e5e8692f16064e12bd1cb1af89b6a434",
            "4017165bc1904cf48284ed50cf99e179",
            "747ee1312a09417c9a049c1678126ccc",
            "5210a245b96d45da9f370db187aa10af",
            "afb13805f8394d2485bbd296d81fa63d",
            "ea09febc5c434f778b98d1db458bc8c8",
            "89014284a3d045c68df1782b5d1ccd4f",
            "4013cf9eebae4cf79e65cef63b368d75",
            "ce90740616164637bb688a7053847d62",
            "9c4ca2f541cb4fbdbc76dfccfa107278",
            "7fab939bcf93429ba8cc097291b34edf",
            "ea707862445c465a841ac44bf1f9d910",
            "030dd9db51d740cc91b1bee2ee4621fa",
            "3f793c862d55437781e4179cec36fd33",
            "2a717e8ae0ed42b8a13c5da4a072c014",
            "2052e7a85f334b0abf34c968d0453e83",
            "e97129bc3b7d492694373d49fdc1ce42",
            "4e030c2eb0a1429b93bd5671de659609",
            "c98136eca1a34a059e706a0eda8c1975",
            "338337ccfc404c43b8a08d523b0523ae",
            "bd270ee2e6e743f79a7a59e7aaac2880",
            "3773040b0f8b4d508e5255f473eca02c"
          ]
        },
        "id": "ozQXOGo3fteL",
        "outputId": "b69542e1-188c-442c-8d28-5abd555d63bb",
        "executionInfo": {
          "status": "ok",
          "timestamp": 1753156222914,
          "user_tz": -420,
          "elapsed": 88969,
          "user": {
            "displayName": "haisen14 pham",
            "userId": "17606635722114610749"
          }
        }
      },
      "execution_count": 8,
      "outputs": [
        {
          "output_type": "stream",
          "name": "stderr",
          "text": [
            "/usr/local/lib/python3.11/dist-packages/huggingface_hub/file_download.py:980: UserWarning: `local_dir_use_symlinks` parameter is deprecated and will be ignored. The process to download files to a local folder has been updated and do not rely on symlinks anymore. You only need to pass a destination folder as`local_dir`.\n",
            "For more details, check out https://huggingface.co/docs/huggingface_hub/main/en/guides/download#download-files-to-local-folder.\n",
            "  warnings.warn(\n"
          ]
        },
        {
          "output_type": "display_data",
          "data": {
            "text/plain": [
              "Fetching 10 files:   0%|          | 0/10 [00:00<?, ?it/s]"
            ],
            "application/vnd.jupyter.widget-view+json": {
              "version_major": 2,
              "version_minor": 0,
              "model_id": "57ccf246b61942469f0b787b52eb68f8"
            }
          },
          "metadata": {}
        },
        {
          "output_type": "display_data",
          "data": {
            "text/plain": [
              "model.safetensors.index.json: 0.00B [00:00, ?B/s]"
            ],
            "application/vnd.jupyter.widget-view+json": {
              "version_major": 2,
              "version_minor": 0,
              "model_id": "ca5424d482434d428c487ecc44124c60"
            }
          },
          "metadata": {}
        },
        {
          "output_type": "display_data",
          "data": {
            "text/plain": [
              ".gitattributes: 0.00B [00:00, ?B/s]"
            ],
            "application/vnd.jupyter.widget-view+json": {
              "version_major": 2,
              "version_minor": 0,
              "model_id": "154f89f91ae7494fb4fe9626e699a66e"
            }
          },
          "metadata": {}
        },
        {
          "output_type": "display_data",
          "data": {
            "text/plain": [
              "pytorch_model-00001-of-00002.safetensors:   0%|          | 0.00/4.97G [00:00<?, ?B/s]"
            ],
            "application/vnd.jupyter.widget-view+json": {
              "version_major": 2,
              "version_minor": 0,
              "model_id": "46d6be63b662440080fe64ef05c732fc"
            }
          },
          "metadata": {}
        },
        {
          "output_type": "display_data",
          "data": {
            "text/plain": [
              "README.md: 0.00B [00:00, ?B/s]"
            ],
            "application/vnd.jupyter.widget-view+json": {
              "version_major": 2,
              "version_minor": 0,
              "model_id": "7f5938a1b3fd48558743a546e9cc1a93"
            }
          },
          "metadata": {}
        },
        {
          "output_type": "display_data",
          "data": {
            "text/plain": [
              "generation_config.json:   0%|          | 0.00/189 [00:00<?, ?B/s]"
            ],
            "application/vnd.jupyter.widget-view+json": {
              "version_major": 2,
              "version_minor": 0,
              "model_id": "5689bd2e55854ac39d517af07cd426ab"
            }
          },
          "metadata": {}
        },
        {
          "output_type": "display_data",
          "data": {
            "text/plain": [
              "tokenizer.json: 0.00B [00:00, ?B/s]"
            ],
            "application/vnd.jupyter.widget-view+json": {
              "version_major": 2,
              "version_minor": 0,
              "model_id": "a5946f21cce74a999c1ae85d55b87102"
            }
          },
          "metadata": {}
        },
        {
          "output_type": "display_data",
          "data": {
            "text/plain": [
              "special_tokens_map.json:   0%|          | 0.00/296 [00:00<?, ?B/s]"
            ],
            "application/vnd.jupyter.widget-view+json": {
              "version_major": 2,
              "version_minor": 0,
              "model_id": "3ac5be2287b54d188cc722843aa7c6e7"
            }
          },
          "metadata": {}
        },
        {
          "output_type": "display_data",
          "data": {
            "text/plain": [
              "config.json:   0%|          | 0.00/878 [00:00<?, ?B/s]"
            ],
            "application/vnd.jupyter.widget-view+json": {
              "version_major": 2,
              "version_minor": 0,
              "model_id": "718ea7a1d38b49159093bdc6c8acf1b6"
            }
          },
          "metadata": {}
        },
        {
          "output_type": "display_data",
          "data": {
            "text/plain": [
              "pytorch_model-00002-of-00002.safetensors:   0%|          | 0.00/1.46G [00:00<?, ?B/s]"
            ],
            "application/vnd.jupyter.widget-view+json": {
              "version_major": 2,
              "version_minor": 0,
              "model_id": "47a50b4594ef4cf9af3e6b154c34adb4"
            }
          },
          "metadata": {}
        },
        {
          "output_type": "display_data",
          "data": {
            "text/plain": [
              "tokenizer_config.json: 0.00B [00:00, ?B/s]"
            ],
            "application/vnd.jupyter.widget-view+json": {
              "version_major": 2,
              "version_minor": 0,
              "model_id": "e5e8692f16064e12bd1cb1af89b6a434"
            }
          },
          "metadata": {}
        },
        {
          "output_type": "display_data",
          "data": {
            "text/plain": [
              "Loading checkpoint shards:   0%|          | 0/2 [00:00<?, ?it/s]"
            ],
            "application/vnd.jupyter.widget-view+json": {
              "version_major": 2,
              "version_minor": 0,
              "model_id": "ea707862445c465a841ac44bf1f9d910"
            }
          },
          "metadata": {}
        },
        {
          "output_type": "stream",
          "name": "stderr",
          "text": [
            "Device set to use cuda:0\n",
            "The following generation flags are not valid and may be ignored: ['temperature', 'top_p']. Set `TRANSFORMERS_VERBOSITY=info` for more details.\n",
            "/tmp/ipython-input-8-3085675771.py:39: LangChainDeprecationWarning: The class `HuggingFacePipeline` was deprecated in LangChain 0.0.37 and will be removed in 1.0. An updated version of the class exists in the :class:`~langchain-huggingface package and should be used instead. To use it run `pip install -U :class:`~langchain-huggingface` and import as `from :class:`~langchain_huggingface import HuggingFacePipeline``.\n",
            "  llm = HuggingFacePipeline(pipeline=pipe)\n",
            "The following generation flags are not valid and may be ignored: ['temperature', 'top_p']. Set `TRANSFORMERS_VERBOSITY=info` for more details.\n",
            "Setting `pad_token_id` to `eos_token_id`:128001 for open-end generation.\n"
          ]
        },
        {
          "output_type": "stream",
          "name": "stdout",
          "text": [
            "\u0110\u1ec3 t\u0103ng c\u01a1 h\u1ed9i tr\u00fang tuy\u1ec3n v\u00e0o \u0110\u1ea1i h\u1ecdc X\u00e2y d\u1ef1ng H\u00e0 N\u1ed9i n\u0103m 2025, th\u00ed sinh c\u1ea7n chu\u1ea9n b\u1ecb k\u1ef9 l\u01b0\u1ee1ng cho k\u1ef3 thi t\u1ed1t nghi\u1ec7p THPT, \u0111\u1eb7c bi\u1ec7t l\u00e0 \u1edf c\u00e1c m\u00f4n To\u00e1n, V\u1eadt l\u00fd v\u00e0 H\u00f3a h\u1ecdc (t\u1ed5 h\u1ee3p A00, A01) ho\u1eb7c V\u0103n, To\u00e1n, V\u1ebd M\u1ef9 thu\u1eadt (t\u1ed5 h\u1ee3p V00 cho ng\u00e0nh Ki\u1ebfn tr\u00fac). Ngo\u00e0i ra, th\u00ed sinh c\u0169ng n\u00ean t\u00ecm hi\u1ec3u k\u1ef9 v\u1ec1 c\u00e1c ch\u01b0\u01a1ng tr\u00ecnh \u0111\u00e0o t\u1ea1o v\u00e0 y\u00eau c\u1ea7u tuy\u1ec3n sinh c\u1ee7a tr\u01b0\u1eddng \u0111\u1ec3 c\u00f3 th\u1ec3 \u0111\u0103ng k\u00fd ph\u00f9 h\u1ee3p.\n"
          ]
        }
      ]
    },
    {
      "cell_type": "code",
      "source": [
        "question = input(\"Nh\u1eadp c\u00e2u h\u1ecfi c\u1ee7a b\u1ea1n: \")\n",
        "response = llm_chain.invoke({\"query\": question})\n",
        "print(\"\\nTr\u1ee3 l\u00fd AI tr\u1ea3 l\u1eddi:\\n\", response[\"result\"])\n"
      ],
      "metadata": {
        "id": "VG-cWMmXgQLQ",
        "colab": {
          "base_uri": "https://localhost:8080/"
        },
        "executionInfo": {
          "status": "ok",
          "timestamp": 1753156283965,
          "user_tz": -420,
          "elapsed": 34384,
          "user": {
            "displayName": "haisen14 pham",
            "userId": "17606635722114610749"
          }
        },
        "outputId": "3d99921a-e885-427f-de81-e61f33f551bc"
      },
      "execution_count": 9,
      "outputs": [
        {
          "name": "stdout",
          "output_type": "stream",
          "text": [
            "Nh\u1eadp c\u00e2u h\u1ecfi c\u1ee7a b\u1ea1n: tr\u01b0\u1eddng c\u00f3 ngh\u00e0nh khoa h\u1ecdc m\u00e1y t\u00ednh kh\u00f4ng\n"
          ]
        },
        {
          "output_type": "stream",
          "name": "stderr",
          "text": [
            "The following generation flags are not valid and may be ignored: ['temperature', 'top_p']. Set `TRANSFORMERS_VERBOSITY=info` for more details.\n",
            "Setting `pad_token_id` to `eos_token_id`:128001 for open-end generation.\n"
          ]
        },
        {
          "output_type": "stream",
          "name": "stdout",
          "text": [
            "\n",
            "Tr\u1ee3 l\u00fd AI tr\u1ea3 l\u1eddi:\n",
            " C\u00f3, tr\u01b0\u1eddng c\u00f3 ng\u00e0nh Khoa h\u1ecdc m\u00e1y t\u00ednh. \u0110i\u1ec3m chu\u1ea9n \u0111\u1ea7u v\u00e0o c\u1ee7a tr\u01b0\u1eddng l\u00e0 t\u1eeb 24-27 \u0111i\u1ec3m, t\u00f9y thu\u1ed9c v\u00e0o ng\u00e0nh h\u1ecdc. Tr\u01b0\u1eddng c\u0169ng y\u00eau c\u1ea7u th\u00ed sinh ph\u1ea3i thi th\u00eam m\u00f4n n\u0103ng khi\u1ebfu V\u1ebd M\u1ef9 thu\u1eadt n\u1ebfu mu\u1ed1n \u0111\u0103ng k\u00fd ng\u00e0nh Ki\u1ebfn tr\u00fac. Ngo\u00e0i ra, tr\u01b0\u1eddng c\u00f2n c\u00f3 ch\u00ednh s\u00e1ch h\u1ecdc b\u1ed5ng v\u00e0 h\u1ed7 tr\u1ee3 sinh vi\u00ean \u0111\u1ec3 gi\u00fap \u0111\u1ee1 nh\u1eefng sinh vi\u00ean c\u00f3 ho\u00e0n c\u1ea3nh kh\u00f3 kh\u0103n. Tr\u01b0\u1eddng c\u0169ng c\u00f3 m\u00f4i tr\u01b0\u1eddng h\u1ecdc t\u1eadp chuy\u00ean nghi\u1ec7p v\u00e0 c\u01a1 h\u1ed9i ngh\u1ec1 nghi\u1ec7p r\u1ed9ng m\u1edf cho c\u00e1c sinh vi\u00ean.\n"
          ]
        }
      ]
    },
    {
      "cell_type": "code",
      "source": [
        "import torch\n",
        "torch.cuda.is_available()\n"
      ],
      "metadata": {
        "colab": {
          "base_uri": "https://localhost:8080/"
        },
        "id": "5fo91E1Iww-D",
        "outputId": "c1e79661-c5bf-4ef6-fc68-26eb58e0ca41",
        "executionInfo": {
          "status": "ok",
          "timestamp": 1753156533539,
          "user_tz": -420,
          "elapsed": 49,
          "user": {
            "displayName": "haisen14 pham",
            "userId": "17606635722114610749"
          }
        }
      },
      "execution_count": 10,
      "outputs": [
        {
          "output_type": "execute_result",
          "data": {
            "text/plain": [
              "True"
            ]
          },
          "metadata": {},
          "execution_count": 10
        }
      ]
    }
  ]
}